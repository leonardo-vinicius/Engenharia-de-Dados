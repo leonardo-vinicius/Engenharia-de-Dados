{
 "cells": [
  {
   "cell_type": "code",
   "execution_count": 3,
   "id": "d640c8ed",
   "metadata": {},
   "outputs": [
    {
     "name": "stdout",
     "output_type": "stream",
     "text": [
      "Defaulting to user installation because normal site-packages is not writeable\n",
      "Collecting Faker\n",
      "  Downloading faker-37.4.2-py3-none-any.whl.metadata (15 kB)\n",
      "Collecting tzdata (from Faker)\n",
      "  Downloading tzdata-2025.2-py2.py3-none-any.whl.metadata (1.4 kB)\n",
      "Downloading faker-37.4.2-py3-none-any.whl (1.9 MB)\n",
      "   ---------------------------------------- 0.0/1.9 MB ? eta -:--:--\n",
      "   ---------------------------------------- 1.9/1.9 MB 15.3 MB/s eta 0:00:00\n",
      "Downloading tzdata-2025.2-py2.py3-none-any.whl (347 kB)\n",
      "Installing collected packages: tzdata, Faker\n",
      "Successfully installed Faker-37.4.2 tzdata-2025.2\n"
     ]
    },
    {
     "name": "stderr",
     "output_type": "stream",
     "text": [
      "\n",
      "[notice] A new release of pip is available: 25.0.1 -> 25.1.1\n",
      "[notice] To update, run: C:\\Users\\Leozinchan69\\AppData\\Local\\Microsoft\\WindowsApps\\PythonSoftwareFoundation.Python.3.12_qbz5n2kfra8p0\\python.exe -m pip install --upgrade pip\n"
     ]
    }
   ],
   "source": [
    "!pip install Faker"
   ]
  },
  {
   "cell_type": "code",
   "execution_count": 3,
   "id": "2cf317c3",
   "metadata": {},
   "outputs": [],
   "source": [
    "import duckdb\n",
    "import pyarrow as pa\n",
    "import pyarrow.parquet as pq\n",
    "import numpy as np\n",
    "from faker import Faker\n",
    "import random\n",
    "import os\n",
    "import pandas as pd"
   ]
  },
  {
   "cell_type": "code",
   "execution_count": 10,
   "id": "2e4dad7b",
   "metadata": {},
   "outputs": [
    {
     "name": "stdout",
     "output_type": "stream",
     "text": [
      "📦 Iniciando geração por lotes e escrita incremental com PyArrow...\n",
      "🔄 Gerando e gravando linhas 1 até 1000000\n",
      "✅ Arquivo Parquet gerado com sucesso: e:\\engenharia_de_dados\\env\\transacoes_duck_bilhao2.parquet\n"
     ]
    }
   ],
   "source": [
    "fake = Faker()\n",
    "NUM_LINHAS = 1_000_000  # colocar 1_000_000_000 depois de testar\n",
    "BATCH_SIZE = 1_000_000\n",
    "CAMINHO_PARQUET = os.path.abspath(\"transacoes_duck_bilhao2.parquet\")\n",
    "\n",
    "def gerar_lote(inicio, tamanho):\n",
    "    amounts = np.round(np.random.uniform(5.00, 5000.00, size=tamanho), 2).tolist()\n",
    "\n",
    "    merchant_categories = [\n",
    "        \"Supermercado\", \"Restaurante\", \"Varejo Online\", \"Posto de Combustível\",\n",
    "        \"Farmácia\", \"Serviços de Streaming\", \"Transporte\", \"Educação\",\n",
    "        \"Entretenimento\", \"Viagens\", \"Saúde\", \"Casa e Jardim\"\n",
    "    ]\n",
    "\n",
    "    return pa.table({\n",
    "        \"transaction_id\": [int(x) for x in np.arange(inicio, inicio + tamanho)],\n",
    "        \"customer_id\": [int(x) for x in np.random.randint(1000, 1_000_000_000, size=tamanho)],\n",
    "        \"transaction_date\": [fake.date_between(start_date='-2y', end_date='today').isoformat() for _ in range(tamanho)],\n",
    "        \"transaction_amount\": amounts,\n",
    "        \"merchant_category\": [random.choice(merchant_categories) for _ in range(tamanho)],\n",
    "        \"payment_method\": [random.choice([\"PIX\", \"Cartão de Crédito\", \"Cartão de Débito\", \"Dinheiro\"]) for _ in range(tamanho)],\n",
    "    })\n",
    "\n",
    "print(\"📦 Iniciando geração por lotes e escrita incremental com PyArrow...\")\n",
    "\n",
    "# Writer Parquet\n",
    "writer = None\n",
    "contador = 1\n",
    "\n",
    "while contador <= NUM_LINHAS:\n",
    "    tamanho = min(BATCH_SIZE, NUM_LINHAS - contador + 1)\n",
    "    print(f\"🔄 Gerando e gravando linhas {contador} até {contador + tamanho - 1}\")\n",
    "    tabela = gerar_lote(contador, tamanho)\n",
    "\n",
    "    if writer is None:\n",
    "        writer = pq.ParquetWriter(CAMINHO_PARQUET, tabela.schema, compression='snappy')\n",
    "\n",
    "    writer.write_table(tabela)\n",
    "    contador += tamanho\n",
    "\n",
    "if writer:\n",
    "    writer.close()\n",
    "\n",
    "print(f\"✅ Arquivo Parquet gerado com sucesso: {CAMINHO_PARQUET}\")\n"
   ]
  },
  {
   "cell_type": "code",
   "execution_count": 4,
   "id": "d55ca347",
   "metadata": {},
   "outputs": [
    {
     "name": "stdout",
     "output_type": "stream",
     "text": [
      "        transaction_id  customer_id transaction_date  transaction_amount  \\\n",
      "999990          999991    974387932       2025-05-05             3337.01   \n",
      "999991          999992    303754950       2025-01-02             1516.54   \n",
      "999992          999993    673118603       2023-08-04              970.41   \n",
      "999993          999994    928245567       2023-11-21             3402.60   \n",
      "999994          999995    477578555       2024-05-28             1667.11   \n",
      "999995          999996    699100455       2024-03-18             2889.92   \n",
      "999996          999997    472102171       2024-12-30             3320.17   \n",
      "999997          999998    763156666       2024-12-18              676.74   \n",
      "999998          999999    595243340       2024-04-04             4164.29   \n",
      "999999         1000000    765939637       2024-08-30              140.12   \n",
      "\n",
      "            merchant_category     payment_method  \n",
      "999990          Varejo Online           Dinheiro  \n",
      "999991   Posto de Combustível  Cartão de Crédito  \n",
      "999992          Casa e Jardim                PIX  \n",
      "999993           Supermercado           Dinheiro  \n",
      "999994               Farmácia                PIX  \n",
      "999995                  Saúde                PIX  \n",
      "999996  Serviços de Streaming           Dinheiro  \n",
      "999997  Serviços de Streaming   Cartão de Débito  \n",
      "999998            Restaurante           Dinheiro  \n",
      "999999  Serviços de Streaming   Cartão de Débito  \n"
     ]
    }
   ],
   "source": [
    "df = pd.read_parquet(\"transacoes_duck_bilhao.parquet\", engine=\"pyarrow\")\n",
    "\n",
    "print(df.tail(10))"
   ]
  }
 ],
 "metadata": {
  "kernelspec": {
   "display_name": "env",
   "language": "python",
   "name": "python3"
  },
  "language_info": {
   "codemirror_mode": {
    "name": "ipython",
    "version": 3
   },
   "file_extension": ".py",
   "mimetype": "text/x-python",
   "name": "python",
   "nbconvert_exporter": "python",
   "pygments_lexer": "ipython3",
   "version": "3.12.10"
  }
 },
 "nbformat": 4,
 "nbformat_minor": 5
}
