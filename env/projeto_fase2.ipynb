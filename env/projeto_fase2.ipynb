{
 "cells": [
  {
   "cell_type": "code",
   "execution_count": 12,
   "id": "8b790ee9",
   "metadata": {},
   "outputs": [
    {
     "name": "stdout",
     "output_type": "stream",
     "text": [
      "Requirement already satisfied: duckdb in .\\lib\\site-packages (1.3.2)\n",
      "Requirement already satisfied: duckdb-engine in .\\lib\\site-packages (0.17.0)\n",
      "Requirement already satisfied: s3fs in .\\lib\\site-packages (2025.7.0)\n",
      "Requirement already satisfied: packaging>=21 in .\\lib\\site-packages (from duckdb-engine) (25.0)\n",
      "Requirement already satisfied: sqlalchemy>=1.3.22 in .\\lib\\site-packages (from duckdb-engine) (2.0.41)\n",
      "Requirement already satisfied: aiobotocore<3.0.0,>=2.5.4 in .\\lib\\site-packages (from s3fs) (2.23.1)\n",
      "Requirement already satisfied: fsspec==2025.7.0 in .\\lib\\site-packages (from s3fs) (2025.7.0)\n",
      "Requirement already satisfied: aiohttp!=4.0.0a0,!=4.0.0a1 in .\\lib\\site-packages (from s3fs) (3.12.14)\n",
      "Requirement already satisfied: aioitertools<1.0.0,>=0.5.1 in .\\lib\\site-packages (from aiobotocore<3.0.0,>=2.5.4->s3fs) (0.12.0)\n",
      "Requirement already satisfied: botocore<1.38.47,>=1.38.40 in .\\lib\\site-packages (from aiobotocore<3.0.0,>=2.5.4->s3fs) (1.38.46)\n",
      "Requirement already satisfied: python-dateutil<3.0.0,>=2.1 in .\\lib\\site-packages (from aiobotocore<3.0.0,>=2.5.4->s3fs) (2.9.0.post0)\n",
      "Requirement already satisfied: jmespath<2.0.0,>=0.7.1 in .\\lib\\site-packages (from aiobotocore<3.0.0,>=2.5.4->s3fs) (1.0.1)\n",
      "Requirement already satisfied: multidict<7.0.0,>=6.0.0 in .\\lib\\site-packages (from aiobotocore<3.0.0,>=2.5.4->s3fs) (6.6.3)\n",
      "Requirement already satisfied: wrapt<2.0.0,>=1.10.10 in .\\lib\\site-packages (from aiobotocore<3.0.0,>=2.5.4->s3fs) (1.17.2)\n",
      "Requirement already satisfied: aiohappyeyeballs>=2.5.0 in .\\lib\\site-packages (from aiohttp!=4.0.0a0,!=4.0.0a1->s3fs) (2.6.1)\n",
      "Requirement already satisfied: aiosignal>=1.4.0 in .\\lib\\site-packages (from aiohttp!=4.0.0a0,!=4.0.0a1->s3fs) (1.4.0)\n",
      "Requirement already satisfied: attrs>=17.3.0 in .\\lib\\site-packages (from aiohttp!=4.0.0a0,!=4.0.0a1->s3fs) (25.3.0)\n",
      "Requirement already satisfied: frozenlist>=1.1.1 in .\\lib\\site-packages (from aiohttp!=4.0.0a0,!=4.0.0a1->s3fs) (1.7.0)\n",
      "Requirement already satisfied: propcache>=0.2.0 in .\\lib\\site-packages (from aiohttp!=4.0.0a0,!=4.0.0a1->s3fs) (0.3.2)\n",
      "Requirement already satisfied: yarl<2.0,>=1.17.0 in .\\lib\\site-packages (from aiohttp!=4.0.0a0,!=4.0.0a1->s3fs) (1.20.1)\n",
      "Requirement already satisfied: greenlet>=1 in .\\lib\\site-packages (from sqlalchemy>=1.3.22->duckdb-engine) (3.2.3)\n",
      "Requirement already satisfied: typing-extensions>=4.6.0 in .\\lib\\site-packages (from sqlalchemy>=1.3.22->duckdb-engine) (4.14.1)\n",
      "Requirement already satisfied: urllib3!=2.2.0,<3,>=1.25.4 in .\\lib\\site-packages (from botocore<1.38.47,>=1.38.40->aiobotocore<3.0.0,>=2.5.4->s3fs) (2.5.0)\n",
      "Requirement already satisfied: six>=1.5 in .\\lib\\site-packages (from python-dateutil<3.0.0,>=2.1->aiobotocore<3.0.0,>=2.5.4->s3fs) (1.17.0)\n",
      "Requirement already satisfied: idna>=2.0 in .\\lib\\site-packages (from yarl<2.0,>=1.17.0->aiohttp!=4.0.0a0,!=4.0.0a1->s3fs) (3.10)\n"
     ]
    },
    {
     "name": "stderr",
     "output_type": "stream",
     "text": [
      "\n",
      "[notice] A new release of pip is available: 25.0.1 -> 25.2\n",
      "[notice] To update, run: python.exe -m pip install --upgrade pip\n"
     ]
    }
   ],
   "source": [
    "!pip install duckdb duckdb-engine s3fs"
   ]
  },
  {
   "cell_type": "code",
   "execution_count": 13,
   "id": "69bec92f",
   "metadata": {},
   "outputs": [],
   "source": [
    "import duckdb\n",
    "import pyarrow as pa\n",
    "import pyarrow.parquet as pq\n",
    "import numpy as np\n",
    "from faker import Faker\n",
    "import random\n",
    "import os\n",
    "import pandas as pd"
   ]
  },
  {
   "cell_type": "code",
   "execution_count": 14,
   "id": "45bbadd6",
   "metadata": {},
   "outputs": [
    {
     "name": "stdout",
     "output_type": "stream",
     "text": [
      "✔️ Contagem de linhas: 1000000\n",
      "\n",
      "✔️ Tipos das colunas:\n",
      " transaction_id                 int64\n",
      "customer_id                    int64\n",
      "transaction_date      datetime64[us]\n",
      "transaction_amount           float64\n",
      "merchant_category             object\n",
      "payment_method                object\n",
      "dtype: object\n",
      "\n",
      "✔️ Estatísticas descritivas:\n",
      "        transaction_id   customer_id            transaction_date  \\\n",
      "count  1000000.000000  1.000000e+06                     1000000   \n",
      "mean    500000.500000  4.999361e+08  2024-07-21 16:28:11.481601   \n",
      "min          1.000000  2.302000e+03         2023-07-23 00:00:00   \n",
      "25%     250000.750000  2.499371e+08         2024-01-20 00:00:00   \n",
      "50%     500000.500000  4.997303e+08         2024-07-21 00:00:00   \n",
      "75%     750000.250000  7.498587e+08         2025-01-21 00:00:00   \n",
      "max    1000000.000000  9.999963e+08         2025-07-22 00:00:00   \n",
      "std     288675.278932  2.885898e+08                         NaN   \n",
      "\n",
      "       transaction_amount  \n",
      "count      1000000.000000  \n",
      "mean          2504.907568  \n",
      "min              5.010000  \n",
      "25%           1257.837500  \n",
      "50%           2508.090000  \n",
      "75%           3752.810000  \n",
      "max           5000.000000  \n",
      "std           1441.367015  \n"
     ]
    }
   ],
   "source": [
    "# Conectando ao MinIO via S3 (ajustar se usar local)\n",
    "con = duckdb.connect(database=':memory:')\n",
    "\n",
    "# Conectar ao Parquet no MinIO\n",
    "# s3_path = \"s3://bronze/transacoes_duck_bilhao.parquet\"\n",
    "\n",
    "# S3 config para DuckDB\n",
    "con.execute(\"\"\"\n",
    "SET s3_endpoint='localhost:9000';\n",
    "SET s3_region='us-east-1';\n",
    "SET s3_access_key_id='admin';\n",
    "SET s3_secret_access_key='password123';\n",
    "SET s3_url_style='path';\n",
    "SET s3_use_ssl=false;\n",
    "\"\"\")\n",
    "\n",
    "# Carrega Parquet\n",
    "#df = con.execute(f\"SELECT * FROM '{s3_path}'\").fetchdf()\n",
    "df = con.execute(\"SELECT * FROM 'transacoes_duck_bilhao.parquet'\").fetchdf()\n",
    "\n",
    "# ✅ Análises básicas\n",
    "print(\"✔️ Contagem de linhas:\", len(df))\n",
    "print(\"\\n✔️ Tipos das colunas:\\n\", df.dtypes)\n",
    "print(\"\\n✔️ Estatísticas descritivas:\\n\", df.describe())\n"
   ]
  },
  {
   "cell_type": "code",
   "execution_count": 19,
   "id": "8258e92c",
   "metadata": {},
   "outputs": [
    {
     "name": "stdout",
     "output_type": "stream",
     "text": [
      "5 Primeiras linhas:\n",
      "\n",
      "    transaction_id  customer_id transaction_date  transaction_amount  \\\n",
      "0               1    869709611       2025-07-17             3651.95   \n",
      "1               2    187384068       2025-05-03             3404.76   \n",
      "2               3    833050434       2023-12-05              452.18   \n",
      "3               4    658914605       2024-12-16             3809.76   \n",
      "4               5    597440453       2024-02-18              761.47   \n",
      "\n",
      "       merchant_category     payment_method  \n",
      "0          Casa e Jardim                PIX  \n",
      "1  Serviços de Streaming           Dinheiro  \n",
      "2                Viagens   Cartão de Débito  \n",
      "3            Restaurante   Cartão de Débito  \n",
      "4   Posto de Combustível  Cartão de Crédito  \n",
      "------------------------------------------------------------\n",
      "Total de linhas: 1000000\n",
      "\n",
      "Tipos de dados: \n",
      "transaction_id                 int64\n",
      "customer_id                    int64\n",
      "transaction_date      datetime64[us]\n",
      "transaction_amount           float64\n",
      "merchant_category             object\n",
      "payment_method                object\n",
      "dtype: object\n"
     ]
    }
   ],
   "source": [
    "# Simulando o MinIO localmente \n",
    "df = con.execute(\"SELECT * FROM 'transacoes_duck_bilhao.parquet'\").fetchdf()\n",
    "\n",
    "print(f\"5 Primeiras linhas:\\n\\n {df.head(5)}\\n{'-' * 60}\") # Exibe as primeiras 5 linhas do DataFrame \n",
    "\n",
    "print(f\"Total de linhas: {df.shape[0]}\\n\")  # retornar número de linhas\n",
    "\n",
    "print(f\"Tipos de dados: \\n{df.dtypes}\") # tipos de data frame"
   ]
  },
  {
   "cell_type": "code",
   "execution_count": 16,
   "id": "08d85af0",
   "metadata": {},
   "outputs": [],
   "source": [
    "def calculate_stats(name):\n",
    "    stats = {\n",
    "        \"avg\": df[name].mean(),\n",
    "        \"min\": df[name].min(),\n",
    "        \"max\": df[name].max(),\n",
    "        \"stddev_pop\": df[name].std(ddof=0),\n",
    "        \"count\": df[name].shape[0]\n",
    "    }\n",
    "\n",
    "    print(f\"Estatísticas para {name}:\\n{stats}\\n{'-' * 60}\")"
   ]
  },
  {
   "cell_type": "code",
   "execution_count": 18,
   "id": "379d10bd",
   "metadata": {},
   "outputs": [
    {
     "name": "stdout",
     "output_type": "stream",
     "text": [
      "Colunas disponíveis: ['transaction_id', 'customer_id', 'transaction_date', 'transaction_amount', 'merchant_category', 'payment_method']\n",
      "Estatísticas para transaction_amount:\n",
      "{'avg': np.float64(2504.9075683200003), 'min': np.float64(5.01), 'max': np.float64(5000.0), 'stddev_pop': np.float64(1441.3662940983331), 'count': 1000000}\n",
      "------------------------------------------------------------\n"
     ]
    }
   ],
   "source": [
    "# Operações básicas\n",
    "column_names = df.columns.tolist()\n",
    "\n",
    "print(\"Colunas disponíveis:\", column_names)\n",
    "\n",
    "calculate_stats('transaction_amount')"
   ]
  }
 ],
 "metadata": {
  "kernelspec": {
   "display_name": "env",
   "language": "python",
   "name": "python3"
  },
  "language_info": {
   "codemirror_mode": {
    "name": "ipython",
    "version": 3
   },
   "file_extension": ".py",
   "mimetype": "text/x-python",
   "name": "python",
   "nbconvert_exporter": "python",
   "pygments_lexer": "ipython3",
   "version": "3.12.10"
  }
 },
 "nbformat": 4,
 "nbformat_minor": 5
}
