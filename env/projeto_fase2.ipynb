{
 "cells": [
  {
   "cell_type": "code",
   "execution_count": null,
   "id": "8b790ee9",
   "metadata": {},
   "outputs": [],
   "source": [
    "!pip install duckdb duckdb-engine s3fs"
   ]
  },
  {
   "cell_type": "code",
   "execution_count": 2,
   "id": "69bec92f",
   "metadata": {},
   "outputs": [],
   "source": [
    "import duckdb\n",
    "import pyarrow as pa\n",
    "import pyarrow.parquet as pq\n",
    "import numpy as np\n",
    "from faker import Faker\n",
    "import random\n",
    "import os\n",
    "import pandas as pd"
   ]
  },
  {
   "cell_type": "code",
   "execution_count": 4,
   "id": "45bbadd6",
   "metadata": {},
   "outputs": [
    {
     "name": "stdout",
     "output_type": "stream",
     "text": [
      "✔️ Contagem de linhas: 1000000\n",
      "\n",
      "✔️ Tipos das colunas:\n",
      " transaction_id                 int64\n",
      "customer_id                    int64\n",
      "transaction_date      datetime64[us]\n",
      "transaction_amount           float64\n",
      "merchant_category             object\n",
      "payment_method                object\n",
      "dtype: object\n",
      "\n",
      "✔️ Estatísticas descritivas:\n",
      "        transaction_id   customer_id            transaction_date  \\\n",
      "count  1000000.000000  1.000000e+06                     1000000   \n",
      "mean    500000.500000  4.999361e+08  2024-07-21 16:28:11.481601   \n",
      "min          1.000000  2.302000e+03         2023-07-23 00:00:00   \n",
      "25%     250000.750000  2.499371e+08         2024-01-20 00:00:00   \n",
      "50%     500000.500000  4.997303e+08         2024-07-21 00:00:00   \n",
      "75%     750000.250000  7.498587e+08         2025-01-21 00:00:00   \n",
      "max    1000000.000000  9.999963e+08         2025-07-22 00:00:00   \n",
      "std     288675.278932  2.885898e+08                         NaN   \n",
      "\n",
      "       transaction_amount  \n",
      "count      1000000.000000  \n",
      "mean          2504.907568  \n",
      "min              5.010000  \n",
      "25%           1257.837500  \n",
      "50%           2508.090000  \n",
      "75%           3752.810000  \n",
      "max           5000.000000  \n",
      "std           1441.367015  \n"
     ]
    }
   ],
   "source": [
    "# Conectando ao MinIO via S3 (ajustar se usar local)\n",
    "con = duckdb.connect(database=':memory:')\n",
    "\n",
    "# Conectar ao Parquet no MinIO\n",
    "# s3_path = \"s3://bronze/transacoes_duck_bilhao.parquet\"\n",
    "\n",
    "# S3 config para DuckDB\n",
    "con.execute(\"\"\"\n",
    "SET s3_endpoint='localhost:9000';\n",
    "SET s3_region='us-east-1';\n",
    "SET s3_access_key_id='admin';\n",
    "SET s3_secret_access_key='password123';\n",
    "SET s3_url_style='path';\n",
    "SET s3_use_ssl=false;\n",
    "\"\"\")\n",
    "\n",
    "# Carrega Parquet\n",
    "#df = con.execute(f\"SELECT * FROM '{s3_path}'\").fetchdf()\n",
    "df = con.execute(\"SELECT * FROM 'transacoes_duck_bilhao.parquet'\").fetchdf()\n",
    "\n",
    "# ✅ Análises básicas\n",
    "print(\"✔️ Contagem de linhas:\", len(df))\n",
    "print(\"\\n✔️ Tipos das colunas:\\n\", df.dtypes)\n",
    "print(\"\\n✔️ Estatísticas descritivas:\\n\", df.describe())\n"
   ]
  }
 ],
 "metadata": {
  "kernelspec": {
   "display_name": "env",
   "language": "python",
   "name": "python3"
  },
  "language_info": {
   "codemirror_mode": {
    "name": "ipython",
    "version": 3
   },
   "file_extension": ".py",
   "mimetype": "text/x-python",
   "name": "python",
   "nbconvert_exporter": "python",
   "pygments_lexer": "ipython3",
   "version": "3.12.10"
  }
 },
 "nbformat": 4,
 "nbformat_minor": 5
}
